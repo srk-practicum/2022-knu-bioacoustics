{
 "cells": [
  {
   "cell_type": "code",
   "execution_count": 1,
   "id": "cf362a74",
   "metadata": {},
   "outputs": [],
   "source": [
    "import pandas as pd\n",
    "import numpy as np"
   ]
  },
  {
   "cell_type": "code",
   "execution_count": 57,
   "id": "e09fcf44",
   "metadata": {
    "scrolled": true
   },
   "outputs": [],
   "source": [
    "common_voices_other_df = pd.read_csv(r'C:\\common_voices\\other.tsv', sep='\\t')"
   ]
  },
  {
   "cell_type": "code",
   "execution_count": 3,
   "id": "5dc8a409",
   "metadata": {},
   "outputs": [],
   "source": [
    "#common_voices_other_df = (common_voices_other_df[['client_id', 'path', 'gender']]).dropna()"
   ]
  },
  {
   "cell_type": "code",
   "execution_count": 74,
   "id": "1473f223",
   "metadata": {},
   "outputs": [],
   "source": [
    "def age_to_number(age):\n",
    "    if age=='teens':\n",
    "        return 1\n",
    "    elif age=='twenties':\n",
    "        return 2\n",
    "    elif age=='thirties':\n",
    "        return 3\n",
    "    else:\n",
    "        return 4\n",
    "def sex(x):\n",
    "    if x != 'female':\n",
    "        return 0\n",
    "    else:\n",
    "        return 1"
   ]
  },
  {
   "cell_type": "code",
   "execution_count": 78,
   "id": "a982683f",
   "metadata": {},
   "outputs": [],
   "source": [
    "common_voices_other_df['age']=common_voices_other_df['age'].apply(age_to_number)\n",
    "common_voices_other_df['gender']=common_voices_other_df['gender'].apply(sex)"
   ]
  },
  {
   "cell_type": "code",
   "execution_count": 79,
   "id": "08a48e98",
   "metadata": {},
   "outputs": [
    {
     "data": {
      "text/plain": [
       "0    5234\n",
       "1     722\n",
       "Name: gender, dtype: int64"
      ]
     },
     "execution_count": 79,
     "metadata": {},
     "output_type": "execute_result"
    }
   ],
   "source": [
    "common_voices_other_df['gender'].value_counts()"
   ]
  },
  {
   "cell_type": "code",
   "execution_count": 80,
   "id": "0daf92f9",
   "metadata": {},
   "outputs": [
    {
     "data": {
      "text/plain": [
       "Index(['client_id', 'path', 'sentence', 'up_votes', 'down_votes', 'age',\n",
       "       'gender', 'accent', 'locale', 'segment'],\n",
       "      dtype='object')"
      ]
     },
     "execution_count": 80,
     "metadata": {},
     "output_type": "execute_result"
    }
   ],
   "source": [
    "common_voices_other_df.columns"
   ]
  },
  {
   "cell_type": "code",
   "execution_count": 81,
   "id": "1eb2e4b6",
   "metadata": {},
   "outputs": [],
   "source": [
    "common_voices_other_df['age'] = common_voices_other_df['age'].dropna()"
   ]
  },
  {
   "cell_type": "code",
   "execution_count": 82,
   "id": "229496d1",
   "metadata": {},
   "outputs": [],
   "source": [
    "X = common_voices_other_df[['up_votes','down_votes','age']]"
   ]
  },
  {
   "cell_type": "code",
   "execution_count": 83,
   "id": "eaa6aa47",
   "metadata": {},
   "outputs": [],
   "source": [
    "y = common_voices_other_df['gender']"
   ]
  },
  {
   "cell_type": "code",
   "execution_count": 84,
   "id": "19f8f290",
   "metadata": {},
   "outputs": [
    {
     "data": {
      "text/plain": [
       "(      up_votes  down_votes  age\n",
       " 0            1           0    4\n",
       " 1            1           0    4\n",
       " 2            0           1    4\n",
       " 3            1           0    4\n",
       " 4            1           0    4\n",
       " ...        ...         ...  ...\n",
       " 5951         0           0    4\n",
       " 5952         0           0    4\n",
       " 5953         0           0    4\n",
       " 5954         0           0    4\n",
       " 5955         0           0    4\n",
       " \n",
       " [5956 rows x 3 columns],\n",
       " 0       0\n",
       " 1       0\n",
       " 2       0\n",
       " 3       1\n",
       " 4       1\n",
       "        ..\n",
       " 5951    0\n",
       " 5952    0\n",
       " 5953    0\n",
       " 5954    0\n",
       " 5955    0\n",
       " Name: gender, Length: 5956, dtype: int64)"
      ]
     },
     "execution_count": 84,
     "metadata": {},
     "output_type": "execute_result"
    }
   ],
   "source": [
    "X, y"
   ]
  },
  {
   "cell_type": "code",
   "execution_count": 85,
   "id": "9c325b61",
   "metadata": {},
   "outputs": [
    {
     "data": {
      "text/plain": [
       "uk    5956\n",
       "Name: locale, dtype: int64"
      ]
     },
     "execution_count": 85,
     "metadata": {},
     "output_type": "execute_result"
    }
   ],
   "source": [
    "common_voices_other_df['locale'].value_counts()"
   ]
  },
  {
   "cell_type": "code",
   "execution_count": 86,
   "id": "8b9fc13b",
   "metadata": {},
   "outputs": [
    {
     "data": {
      "text/plain": [
       "Series([], Name: accent, dtype: int64)"
      ]
     },
     "execution_count": 86,
     "metadata": {},
     "output_type": "execute_result"
    }
   ],
   "source": [
    "common_voices_other_df['accent'].value_counts()"
   ]
  },
  {
   "cell_type": "code",
   "execution_count": 87,
   "id": "6730e378",
   "metadata": {},
   "outputs": [],
   "source": [
    "from sklearn.ensemble import RandomForestClassifier\n",
    "\n",
    "clf=RandomForestClassifier()"
   ]
  },
  {
   "cell_type": "code",
   "execution_count": 88,
   "id": "6c1f408d",
   "metadata": {},
   "outputs": [],
   "source": [
    "from sklearn.model_selection import train_test_split\n",
    "X_train, X_test, y_train, y_test = train_test_split(X, y, test_size=0.33, random_state=42)"
   ]
  },
  {
   "cell_type": "code",
   "execution_count": 89,
   "id": "22a40404",
   "metadata": {},
   "outputs": [
    {
     "data": {
      "text/plain": [
       "RandomForestClassifier()"
      ]
     },
     "execution_count": 89,
     "metadata": {},
     "output_type": "execute_result"
    }
   ],
   "source": [
    "clf.fit(X_train, y_train)"
   ]
  },
  {
   "cell_type": "code",
   "execution_count": 45,
   "id": "9636d999",
   "metadata": {},
   "outputs": [
    {
     "data": {
      "text/plain": [
       "up_votes  down_votes  age\n",
       "1         0           4      1055\n",
       "0         0           3       780\n",
       "                      4       744\n",
       "1         0           2       723\n",
       "                      3       392\n",
       "0         1           4        80\n",
       "                      2        70\n",
       "1         0           1        47\n",
       "          1           2        35\n",
       "0         1           3        26\n",
       "1         1           3        15\n",
       "                      4        11\n",
       "0         1           1         7\n",
       "          0           2         5\n",
       "dtype: int64"
      ]
     },
     "execution_count": 45,
     "metadata": {},
     "output_type": "execute_result"
    }
   ],
   "source": [
    "X_train.value_counts()"
   ]
  },
  {
   "cell_type": "code",
   "execution_count": 90,
   "id": "79680251",
   "metadata": {},
   "outputs": [],
   "source": [
    "y_pred = clf.predict(X_test)"
   ]
  },
  {
   "cell_type": "code",
   "execution_count": 93,
   "id": "306c056c",
   "metadata": {},
   "outputs": [
    {
     "data": {
      "text/plain": [
       "array([0, 0, 0, ..., 0, 0, 0], dtype=int64)"
      ]
     },
     "execution_count": 93,
     "metadata": {},
     "output_type": "execute_result"
    }
   ],
   "source": [
    "y_pred"
   ]
  },
  {
   "cell_type": "code",
   "execution_count": 94,
   "id": "4d09e394",
   "metadata": {},
   "outputs": [
    {
     "data": {
      "text/plain": [
       "0.8758901322482198"
      ]
     },
     "execution_count": 94,
     "metadata": {},
     "output_type": "execute_result"
    }
   ],
   "source": [
    "(y_pred == y_test).sum()/len(y_test)"
   ]
  },
  {
   "cell_type": "code",
   "execution_count": null,
   "id": "6e3bba90",
   "metadata": {},
   "outputs": [],
   "source": []
  }
 ],
 "metadata": {
  "kernelspec": {
   "display_name": "Python 3 (ipykernel)",
   "language": "python",
   "name": "python3"
  },
  "language_info": {
   "codemirror_mode": {
    "name": "ipython",
    "version": 3
   },
   "file_extension": ".py",
   "mimetype": "text/x-python",
   "name": "python",
   "nbconvert_exporter": "python",
   "pygments_lexer": "ipython3",
   "version": "3.10.1"
  }
 },
 "nbformat": 4,
 "nbformat_minor": 5
}
