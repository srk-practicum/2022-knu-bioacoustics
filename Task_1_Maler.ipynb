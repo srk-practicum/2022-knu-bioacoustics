{
 "cells": [
  {
   "cell_type": "markdown",
   "metadata": {},
   "source": [
    "### Import libraries"
   ]
  },
  {
   "cell_type": "code",
   "execution_count": 51,
   "metadata": {},
   "outputs": [],
   "source": [
    "import pandas as pd\n",
    "import numpy as np\n",
    "import librosa as lr\n",
    "import matplotlib.pyplot as plt\n",
    "from sklearn.ensemble import RandomForestClassifier\n",
    "from sklearn.model_selection import GridSearchCV\n",
    "from sklearn.model_selection import train_test_split\n",
    "from sklearn.metrics import plot_confusion_matrix\n",
    "from sklearn.metrics import f1_score, precision_recall_curve\n",
    "from sklearn.metrics import mean_squared_error\n",
    "from pydub import AudioSegment\n",
    "import pywt"
   ]
  },
  {
   "cell_type": "markdown",
   "metadata": {},
   "source": [
    "### Load .tsv data "
   ]
  },
  {
   "cell_type": "code",
   "execution_count": 44,
   "metadata": {},
   "outputs": [],
   "source": [
    "common_voices_df = (pd.read_csv(r'E:\\common_voices\\uk\\validated.tsv', sep='\\t')[['path', 'gender']]).dropna()\n",
    "common_voices_sample = common_voices_df.sample(n=3000, random_state=1)"
   ]
  },
  {
   "cell_type": "code",
   "execution_count": 58,
   "metadata": {},
   "outputs": [],
   "source": [
    "def sex(x):\n",
    "    if x == 'male': return 1\n",
    "    else: return 0\n",
    "common_voices_sample.gender = common_voices_sample.gender.apply(sex)"
   ]
  },
  {
   "cell_type": "code",
   "execution_count": 59,
   "metadata": {},
   "outputs": [
    {
     "data": {
      "text/html": [
       "<div>\n",
       "<style scoped>\n",
       "    .dataframe tbody tr th:only-of-type {\n",
       "        vertical-align: middle;\n",
       "    }\n",
       "\n",
       "    .dataframe tbody tr th {\n",
       "        vertical-align: top;\n",
       "    }\n",
       "\n",
       "    .dataframe thead th {\n",
       "        text-align: right;\n",
       "    }\n",
       "</style>\n",
       "<table border=\"1\" class=\"dataframe\">\n",
       "  <thead>\n",
       "    <tr style=\"text-align: right;\">\n",
       "      <th></th>\n",
       "      <th>path</th>\n",
       "      <th>gender</th>\n",
       "    </tr>\n",
       "  </thead>\n",
       "  <tbody>\n",
       "    <tr>\n",
       "      <th>3265</th>\n",
       "      <td>common_voice_uk_23555662.mp3</td>\n",
       "      <td>0</td>\n",
       "    </tr>\n",
       "    <tr>\n",
       "      <th>38803</th>\n",
       "      <td>common_voice_uk_21862030.mp3</td>\n",
       "      <td>1</td>\n",
       "    </tr>\n",
       "    <tr>\n",
       "      <th>12581</th>\n",
       "      <td>common_voice_uk_23571007.mp3</td>\n",
       "      <td>0</td>\n",
       "    </tr>\n",
       "    <tr>\n",
       "      <th>14760</th>\n",
       "      <td>common_voice_uk_21567053.mp3</td>\n",
       "      <td>1</td>\n",
       "    </tr>\n",
       "    <tr>\n",
       "      <th>29109</th>\n",
       "      <td>common_voice_uk_23931241.mp3</td>\n",
       "      <td>1</td>\n",
       "    </tr>\n",
       "    <tr>\n",
       "      <th>...</th>\n",
       "      <td>...</td>\n",
       "      <td>...</td>\n",
       "    </tr>\n",
       "    <tr>\n",
       "      <th>29896</th>\n",
       "      <td>common_voice_uk_24287965.mp3</td>\n",
       "      <td>1</td>\n",
       "    </tr>\n",
       "    <tr>\n",
       "      <th>31630</th>\n",
       "      <td>common_voice_uk_22436288.mp3</td>\n",
       "      <td>1</td>\n",
       "    </tr>\n",
       "    <tr>\n",
       "      <th>10927</th>\n",
       "      <td>common_voice_uk_25292112.mp3</td>\n",
       "      <td>1</td>\n",
       "    </tr>\n",
       "    <tr>\n",
       "      <th>37898</th>\n",
       "      <td>common_voice_uk_21654288.mp3</td>\n",
       "      <td>1</td>\n",
       "    </tr>\n",
       "    <tr>\n",
       "      <th>8011</th>\n",
       "      <td>common_voice_uk_24475837.mp3</td>\n",
       "      <td>0</td>\n",
       "    </tr>\n",
       "  </tbody>\n",
       "</table>\n",
       "<p>3000 rows × 2 columns</p>\n",
       "</div>"
      ],
      "text/plain": [
       "                               path  gender\n",
       "3265   common_voice_uk_23555662.mp3       0\n",
       "38803  common_voice_uk_21862030.mp3       1\n",
       "12581  common_voice_uk_23571007.mp3       0\n",
       "14760  common_voice_uk_21567053.mp3       1\n",
       "29109  common_voice_uk_23931241.mp3       1\n",
       "...                             ...     ...\n",
       "29896  common_voice_uk_24287965.mp3       1\n",
       "31630  common_voice_uk_22436288.mp3       1\n",
       "10927  common_voice_uk_25292112.mp3       1\n",
       "37898  common_voice_uk_21654288.mp3       1\n",
       "8011   common_voice_uk_24475837.mp3       0\n",
       "\n",
       "[3000 rows x 2 columns]"
      ]
     },
     "execution_count": 59,
     "metadata": {},
     "output_type": "execute_result"
    }
   ],
   "source": [
    "common_voices_sample"
   ]
  },
  {
   "cell_type": "markdown",
   "metadata": {},
   "source": [
    "### Extract features"
   ]
  },
  {
   "cell_type": "code",
   "execution_count": 11,
   "metadata": {},
   "outputs": [],
   "source": [
    "def get_features(file_name):\n",
    "    X, sample_rate = lr.load(file_name, sr=16000)\n",
    "\n",
    "    stft = np.abs(lr.stft(X))\n",
    "    result = np.array([])\n",
    "\n",
    "    chroma = np.mean(lr.feature.chroma_stft(S=stft, sr=sample_rate).T, axis=0)\n",
    "    result = np.hstack((result, chroma))\n",
    "    mel = np.mean(lr.feature.melspectrogram(X, sr=sample_rate).T, axis=0)\n",
    "    result = np.hstack((result, mel))\n",
    "    contrast = np.mean(lr.feature.spectral_contrast(S=stft, sr=sample_rate).T, axis=0)\n",
    "    result = np.hstack((result, contrast))\n",
    "    cA, cD = pywt.dwt(X, 'db1')\n",
    "    result = np.hstack((result, [cA.mean(), cD.mean()]))\n",
    "    return result"
   ]
  },
  {
   "cell_type": "markdown",
   "metadata": {},
   "source": [
    "### Convert mp3 to wav "
   ]
  },
  {
   "cell_type": "code",
   "execution_count": 13,
   "metadata": {},
   "outputs": [],
   "source": [
    "for file in common_voices_sample['path'].values:\n",
    "    sound = AudioSegment.from_mp3(r'E:\\common_voices\\uk\\clips\\\\' + file)\n",
    "    sound.export(r'E:\\common_voices\\uk\\clips_wav\\\\' + file, format='wav')"
   ]
  },
  {
   "cell_type": "code",
   "execution_count": 14,
   "metadata": {},
   "outputs": [
    {
     "data": {
      "text/plain": [
       "3000"
      ]
     },
     "execution_count": 14,
     "metadata": {},
     "output_type": "execute_result"
    }
   ],
   "source": [
    "files = lr.util.find_files(r'E:\\common_voices\\uk\\clips_wav') \n",
    "files = np.asarray(files)\n",
    "len(files)"
   ]
  },
  {
   "cell_type": "code",
   "execution_count": 15,
   "metadata": {},
   "outputs": [],
   "source": [
    "sample_pathes = []\n",
    "for file in files:\n",
    "    if (((file.split('\\\\')[4]).split('.'))[0] + '.mp3') in common_voices_sample.path.values:\n",
    "        sample_pathes.append(file)"
   ]
  },
  {
   "cell_type": "markdown",
   "metadata": {},
   "source": [
    "### Create dataframe for modeling"
   ]
  },
  {
   "cell_type": "code",
   "execution_count": 16,
   "metadata": {},
   "outputs": [],
   "source": [
    "array = []\n",
    "for k in range(len(sample_pathes)):\n",
    "    features = get_features(sample_pathes[k])\n",
    "    array.append(features)"
   ]
  },
  {
   "cell_type": "code",
   "execution_count": 45,
   "metadata": {},
   "outputs": [
    {
     "data": {
      "text/plain": [
       "149"
      ]
     },
     "execution_count": 45,
     "metadata": {},
     "output_type": "execute_result"
    }
   ],
   "source": [
    "len(array[0])"
   ]
  },
  {
   "cell_type": "code",
   "execution_count": 28,
   "metadata": {},
   "outputs": [],
   "source": [
    "column_names = []\n",
    "for j in range(147):\n",
    "    if j < 12: column_names.append('chroma_' + str(j))\n",
    "    elif j>=12  and j<140: column_names.append('mel_' + str(j-12))\n",
    "    else: column_names.append('contrast_' + str(j-140))\n",
    "column_names.append('wavelet_cA')\n",
    "column_names.append('wavelet_cD')"
   ]
  },
  {
   "cell_type": "code",
   "execution_count": 34,
   "metadata": {},
   "outputs": [],
   "source": [
    "dataframe = pd.DataFrame(array, columns=np.array(column_names))\n",
    "dataframe['path'] = sample_pathes"
   ]
  },
  {
   "cell_type": "code",
   "execution_count": 60,
   "metadata": {},
   "outputs": [
    {
     "data": {
      "text/plain": [
       "(3000, 151)"
      ]
     },
     "execution_count": 60,
     "metadata": {},
     "output_type": "execute_result"
    }
   ],
   "source": [
    "merged_dataframe = pd.merge(dataframe, common_voices_sample, on='path')\n",
    "merged_dataframe.shape"
   ]
  },
  {
   "cell_type": "code",
   "execution_count": 61,
   "metadata": {},
   "outputs": [
    {
     "data": {
      "text/html": [
       "<div>\n",
       "<style scoped>\n",
       "    .dataframe tbody tr th:only-of-type {\n",
       "        vertical-align: middle;\n",
       "    }\n",
       "\n",
       "    .dataframe tbody tr th {\n",
       "        vertical-align: top;\n",
       "    }\n",
       "\n",
       "    .dataframe thead th {\n",
       "        text-align: right;\n",
       "    }\n",
       "</style>\n",
       "<table border=\"1\" class=\"dataframe\">\n",
       "  <thead>\n",
       "    <tr style=\"text-align: right;\">\n",
       "      <th></th>\n",
       "      <th>chroma_0</th>\n",
       "      <th>chroma_1</th>\n",
       "      <th>chroma_2</th>\n",
       "      <th>chroma_3</th>\n",
       "      <th>chroma_4</th>\n",
       "      <th>chroma_5</th>\n",
       "      <th>chroma_6</th>\n",
       "      <th>chroma_7</th>\n",
       "      <th>chroma_8</th>\n",
       "      <th>chroma_9</th>\n",
       "      <th>...</th>\n",
       "      <th>contrast_1</th>\n",
       "      <th>contrast_2</th>\n",
       "      <th>contrast_3</th>\n",
       "      <th>contrast_4</th>\n",
       "      <th>contrast_5</th>\n",
       "      <th>contrast_6</th>\n",
       "      <th>wavelet_cA</th>\n",
       "      <th>wavelet_cD</th>\n",
       "      <th>path</th>\n",
       "      <th>gender</th>\n",
       "    </tr>\n",
       "  </thead>\n",
       "  <tbody>\n",
       "    <tr>\n",
       "      <th>0</th>\n",
       "      <td>0.609048</td>\n",
       "      <td>0.605545</td>\n",
       "      <td>0.591142</td>\n",
       "      <td>0.658247</td>\n",
       "      <td>0.687992</td>\n",
       "      <td>0.632058</td>\n",
       "      <td>0.630587</td>\n",
       "      <td>0.682306</td>\n",
       "      <td>0.709496</td>\n",
       "      <td>0.721459</td>\n",
       "      <td>...</td>\n",
       "      <td>15.339969</td>\n",
       "      <td>18.016537</td>\n",
       "      <td>18.107451</td>\n",
       "      <td>18.336659</td>\n",
       "      <td>18.940280</td>\n",
       "      <td>44.895433</td>\n",
       "      <td>1.859886e-06</td>\n",
       "      <td>1.541783e-08</td>\n",
       "      <td>common_voice_uk_20894281.mp3</td>\n",
       "      <td>1</td>\n",
       "    </tr>\n",
       "    <tr>\n",
       "      <th>1</th>\n",
       "      <td>0.520645</td>\n",
       "      <td>0.610680</td>\n",
       "      <td>0.656464</td>\n",
       "      <td>0.709239</td>\n",
       "      <td>0.749968</td>\n",
       "      <td>0.733003</td>\n",
       "      <td>0.678275</td>\n",
       "      <td>0.618974</td>\n",
       "      <td>0.636744</td>\n",
       "      <td>0.647777</td>\n",
       "      <td>...</td>\n",
       "      <td>14.528755</td>\n",
       "      <td>18.386380</td>\n",
       "      <td>15.973068</td>\n",
       "      <td>18.261029</td>\n",
       "      <td>19.390075</td>\n",
       "      <td>43.983836</td>\n",
       "      <td>1.881379e-05</td>\n",
       "      <td>7.233668e-09</td>\n",
       "      <td>common_voice_uk_20894334.mp3</td>\n",
       "      <td>1</td>\n",
       "    </tr>\n",
       "    <tr>\n",
       "      <th>2</th>\n",
       "      <td>0.300128</td>\n",
       "      <td>0.341838</td>\n",
       "      <td>0.305717</td>\n",
       "      <td>0.276773</td>\n",
       "      <td>0.258840</td>\n",
       "      <td>0.285728</td>\n",
       "      <td>0.327156</td>\n",
       "      <td>0.314603</td>\n",
       "      <td>0.288448</td>\n",
       "      <td>0.276976</td>\n",
       "      <td>...</td>\n",
       "      <td>16.861634</td>\n",
       "      <td>17.584720</td>\n",
       "      <td>19.463191</td>\n",
       "      <td>18.955218</td>\n",
       "      <td>17.713455</td>\n",
       "      <td>30.784422</td>\n",
       "      <td>2.225423e-05</td>\n",
       "      <td>-5.324117e-09</td>\n",
       "      <td>common_voice_uk_20900102.mp3</td>\n",
       "      <td>0</td>\n",
       "    </tr>\n",
       "    <tr>\n",
       "      <th>3</th>\n",
       "      <td>0.408150</td>\n",
       "      <td>0.475859</td>\n",
       "      <td>0.458274</td>\n",
       "      <td>0.422986</td>\n",
       "      <td>0.450028</td>\n",
       "      <td>0.454396</td>\n",
       "      <td>0.463918</td>\n",
       "      <td>0.513978</td>\n",
       "      <td>0.511510</td>\n",
       "      <td>0.506202</td>\n",
       "      <td>...</td>\n",
       "      <td>18.522396</td>\n",
       "      <td>21.379026</td>\n",
       "      <td>19.832804</td>\n",
       "      <td>19.955215</td>\n",
       "      <td>21.160639</td>\n",
       "      <td>44.742829</td>\n",
       "      <td>-7.342162e-06</td>\n",
       "      <td>-4.468617e-09</td>\n",
       "      <td>common_voice_uk_20900142.mp3</td>\n",
       "      <td>0</td>\n",
       "    </tr>\n",
       "    <tr>\n",
       "      <th>4</th>\n",
       "      <td>0.314130</td>\n",
       "      <td>0.318948</td>\n",
       "      <td>0.289681</td>\n",
       "      <td>0.297413</td>\n",
       "      <td>0.286962</td>\n",
       "      <td>0.283445</td>\n",
       "      <td>0.330429</td>\n",
       "      <td>0.424861</td>\n",
       "      <td>0.392418</td>\n",
       "      <td>0.300347</td>\n",
       "      <td>...</td>\n",
       "      <td>18.590908</td>\n",
       "      <td>19.758513</td>\n",
       "      <td>20.403430</td>\n",
       "      <td>19.618448</td>\n",
       "      <td>20.427730</td>\n",
       "      <td>35.960112</td>\n",
       "      <td>2.512027e-06</td>\n",
       "      <td>1.243918e-09</td>\n",
       "      <td>common_voice_uk_20900163.mp3</td>\n",
       "      <td>0</td>\n",
       "    </tr>\n",
       "    <tr>\n",
       "      <th>...</th>\n",
       "      <td>...</td>\n",
       "      <td>...</td>\n",
       "      <td>...</td>\n",
       "      <td>...</td>\n",
       "      <td>...</td>\n",
       "      <td>...</td>\n",
       "      <td>...</td>\n",
       "      <td>...</td>\n",
       "      <td>...</td>\n",
       "      <td>...</td>\n",
       "      <td>...</td>\n",
       "      <td>...</td>\n",
       "      <td>...</td>\n",
       "      <td>...</td>\n",
       "      <td>...</td>\n",
       "      <td>...</td>\n",
       "      <td>...</td>\n",
       "      <td>...</td>\n",
       "      <td>...</td>\n",
       "      <td>...</td>\n",
       "      <td>...</td>\n",
       "    </tr>\n",
       "    <tr>\n",
       "      <th>2995</th>\n",
       "      <td>0.493694</td>\n",
       "      <td>0.506249</td>\n",
       "      <td>0.518980</td>\n",
       "      <td>0.545611</td>\n",
       "      <td>0.529672</td>\n",
       "      <td>0.559269</td>\n",
       "      <td>0.662264</td>\n",
       "      <td>0.817417</td>\n",
       "      <td>0.804382</td>\n",
       "      <td>0.655630</td>\n",
       "      <td>...</td>\n",
       "      <td>18.459355</td>\n",
       "      <td>18.865863</td>\n",
       "      <td>17.428354</td>\n",
       "      <td>17.141690</td>\n",
       "      <td>23.234875</td>\n",
       "      <td>37.296973</td>\n",
       "      <td>-1.064667e-05</td>\n",
       "      <td>-3.639022e-09</td>\n",
       "      <td>common_voice_uk_27182939.mp3</td>\n",
       "      <td>1</td>\n",
       "    </tr>\n",
       "    <tr>\n",
       "      <th>2996</th>\n",
       "      <td>0.562997</td>\n",
       "      <td>0.550991</td>\n",
       "      <td>0.594704</td>\n",
       "      <td>0.605965</td>\n",
       "      <td>0.603984</td>\n",
       "      <td>0.586613</td>\n",
       "      <td>0.668723</td>\n",
       "      <td>0.832074</td>\n",
       "      <td>0.815481</td>\n",
       "      <td>0.724853</td>\n",
       "      <td>...</td>\n",
       "      <td>17.639356</td>\n",
       "      <td>18.433562</td>\n",
       "      <td>16.728470</td>\n",
       "      <td>16.967880</td>\n",
       "      <td>21.408539</td>\n",
       "      <td>36.135334</td>\n",
       "      <td>-1.746125e-07</td>\n",
       "      <td>-8.768373e-08</td>\n",
       "      <td>common_voice_uk_27182940.mp3</td>\n",
       "      <td>1</td>\n",
       "    </tr>\n",
       "    <tr>\n",
       "      <th>2997</th>\n",
       "      <td>0.482830</td>\n",
       "      <td>0.451846</td>\n",
       "      <td>0.480946</td>\n",
       "      <td>0.563314</td>\n",
       "      <td>0.561271</td>\n",
       "      <td>0.546303</td>\n",
       "      <td>0.637646</td>\n",
       "      <td>0.718286</td>\n",
       "      <td>0.796869</td>\n",
       "      <td>0.733928</td>\n",
       "      <td>...</td>\n",
       "      <td>17.059426</td>\n",
       "      <td>17.255037</td>\n",
       "      <td>17.396775</td>\n",
       "      <td>17.180296</td>\n",
       "      <td>21.178072</td>\n",
       "      <td>38.529394</td>\n",
       "      <td>-1.383973e-04</td>\n",
       "      <td>-1.035078e-07</td>\n",
       "      <td>common_voice_uk_27182988.mp3</td>\n",
       "      <td>1</td>\n",
       "    </tr>\n",
       "    <tr>\n",
       "      <th>2998</th>\n",
       "      <td>0.543115</td>\n",
       "      <td>0.529522</td>\n",
       "      <td>0.566431</td>\n",
       "      <td>0.503769</td>\n",
       "      <td>0.502115</td>\n",
       "      <td>0.603018</td>\n",
       "      <td>0.722291</td>\n",
       "      <td>0.827062</td>\n",
       "      <td>0.748753</td>\n",
       "      <td>0.644281</td>\n",
       "      <td>...</td>\n",
       "      <td>17.960220</td>\n",
       "      <td>18.392437</td>\n",
       "      <td>17.480815</td>\n",
       "      <td>17.532458</td>\n",
       "      <td>21.792591</td>\n",
       "      <td>36.221328</td>\n",
       "      <td>-4.715814e-05</td>\n",
       "      <td>-2.104423e-08</td>\n",
       "      <td>common_voice_uk_27183486.mp3</td>\n",
       "      <td>1</td>\n",
       "    </tr>\n",
       "    <tr>\n",
       "      <th>2999</th>\n",
       "      <td>0.533978</td>\n",
       "      <td>0.563556</td>\n",
       "      <td>0.631591</td>\n",
       "      <td>0.598295</td>\n",
       "      <td>0.554107</td>\n",
       "      <td>0.579243</td>\n",
       "      <td>0.675700</td>\n",
       "      <td>0.835831</td>\n",
       "      <td>0.826025</td>\n",
       "      <td>0.686391</td>\n",
       "      <td>...</td>\n",
       "      <td>18.465594</td>\n",
       "      <td>17.232127</td>\n",
       "      <td>16.239564</td>\n",
       "      <td>16.410863</td>\n",
       "      <td>18.614307</td>\n",
       "      <td>36.907384</td>\n",
       "      <td>3.587055e-05</td>\n",
       "      <td>-2.350171e-08</td>\n",
       "      <td>common_voice_uk_27183678.mp3</td>\n",
       "      <td>1</td>\n",
       "    </tr>\n",
       "  </tbody>\n",
       "</table>\n",
       "<p>3000 rows × 151 columns</p>\n",
       "</div>"
      ],
      "text/plain": [
       "      chroma_0  chroma_1  chroma_2  chroma_3  chroma_4  chroma_5  chroma_6  \\\n",
       "0     0.609048  0.605545  0.591142  0.658247  0.687992  0.632058  0.630587   \n",
       "1     0.520645  0.610680  0.656464  0.709239  0.749968  0.733003  0.678275   \n",
       "2     0.300128  0.341838  0.305717  0.276773  0.258840  0.285728  0.327156   \n",
       "3     0.408150  0.475859  0.458274  0.422986  0.450028  0.454396  0.463918   \n",
       "4     0.314130  0.318948  0.289681  0.297413  0.286962  0.283445  0.330429   \n",
       "...        ...       ...       ...       ...       ...       ...       ...   \n",
       "2995  0.493694  0.506249  0.518980  0.545611  0.529672  0.559269  0.662264   \n",
       "2996  0.562997  0.550991  0.594704  0.605965  0.603984  0.586613  0.668723   \n",
       "2997  0.482830  0.451846  0.480946  0.563314  0.561271  0.546303  0.637646   \n",
       "2998  0.543115  0.529522  0.566431  0.503769  0.502115  0.603018  0.722291   \n",
       "2999  0.533978  0.563556  0.631591  0.598295  0.554107  0.579243  0.675700   \n",
       "\n",
       "      chroma_7  chroma_8  chroma_9  ...  contrast_1  contrast_2  contrast_3  \\\n",
       "0     0.682306  0.709496  0.721459  ...   15.339969   18.016537   18.107451   \n",
       "1     0.618974  0.636744  0.647777  ...   14.528755   18.386380   15.973068   \n",
       "2     0.314603  0.288448  0.276976  ...   16.861634   17.584720   19.463191   \n",
       "3     0.513978  0.511510  0.506202  ...   18.522396   21.379026   19.832804   \n",
       "4     0.424861  0.392418  0.300347  ...   18.590908   19.758513   20.403430   \n",
       "...        ...       ...       ...  ...         ...         ...         ...   \n",
       "2995  0.817417  0.804382  0.655630  ...   18.459355   18.865863   17.428354   \n",
       "2996  0.832074  0.815481  0.724853  ...   17.639356   18.433562   16.728470   \n",
       "2997  0.718286  0.796869  0.733928  ...   17.059426   17.255037   17.396775   \n",
       "2998  0.827062  0.748753  0.644281  ...   17.960220   18.392437   17.480815   \n",
       "2999  0.835831  0.826025  0.686391  ...   18.465594   17.232127   16.239564   \n",
       "\n",
       "      contrast_4  contrast_5  contrast_6    wavelet_cA    wavelet_cD  \\\n",
       "0      18.336659   18.940280   44.895433  1.859886e-06  1.541783e-08   \n",
       "1      18.261029   19.390075   43.983836  1.881379e-05  7.233668e-09   \n",
       "2      18.955218   17.713455   30.784422  2.225423e-05 -5.324117e-09   \n",
       "3      19.955215   21.160639   44.742829 -7.342162e-06 -4.468617e-09   \n",
       "4      19.618448   20.427730   35.960112  2.512027e-06  1.243918e-09   \n",
       "...          ...         ...         ...           ...           ...   \n",
       "2995   17.141690   23.234875   37.296973 -1.064667e-05 -3.639022e-09   \n",
       "2996   16.967880   21.408539   36.135334 -1.746125e-07 -8.768373e-08   \n",
       "2997   17.180296   21.178072   38.529394 -1.383973e-04 -1.035078e-07   \n",
       "2998   17.532458   21.792591   36.221328 -4.715814e-05 -2.104423e-08   \n",
       "2999   16.410863   18.614307   36.907384  3.587055e-05 -2.350171e-08   \n",
       "\n",
       "                              path  gender  \n",
       "0     common_voice_uk_20894281.mp3       1  \n",
       "1     common_voice_uk_20894334.mp3       1  \n",
       "2     common_voice_uk_20900102.mp3       0  \n",
       "3     common_voice_uk_20900142.mp3       0  \n",
       "4     common_voice_uk_20900163.mp3       0  \n",
       "...                            ...     ...  \n",
       "2995  common_voice_uk_27182939.mp3       1  \n",
       "2996  common_voice_uk_27182940.mp3       1  \n",
       "2997  common_voice_uk_27182988.mp3       1  \n",
       "2998  common_voice_uk_27183486.mp3       1  \n",
       "2999  common_voice_uk_27183678.mp3       1  \n",
       "\n",
       "[3000 rows x 151 columns]"
      ]
     },
     "execution_count": 61,
     "metadata": {},
     "output_type": "execute_result"
    }
   ],
   "source": [
    "merged_dataframe"
   ]
  },
  {
   "cell_type": "code",
   "execution_count": 62,
   "metadata": {},
   "outputs": [
    {
     "data": {
      "text/plain": [
       "578"
      ]
     },
     "execution_count": 62,
     "metadata": {},
     "output_type": "execute_result"
    }
   ],
   "source": [
    "X_train, X_test, y_train, y_test = train_test_split(merged_dataframe.drop(columns = ['path', 'gender']),\n",
    "                                                    merged_dataframe.gender, test_size=0.2, random_state=1)\n",
    "parametrs = {'n_estimators':range(5,41,5), 'max_depth':range(1,9,2),\n",
    "    'min_samples_leaf':range(1,8), 'min_samples_split':range(2,4)}\n",
    "voice_rf = RandomForestClassifier(random_state=0)\n",
    "search = GridSearchCV(voice_rf, parametrs, n_jobs=-1, cv=3)\n",
    "search.fit(X_train,y_train)\n",
    "best_voice_forest = search.best_estimator_\n",
    "\n",
    "predictions = best_voice_forest.predict(X_test)\n",
    "(predictions == y_test.to_numpy()).sum()"
   ]
  },
  {
   "cell_type": "code",
   "execution_count": 64,
   "metadata": {
    "scrolled": true
   },
   "outputs": [
    {
     "data": {
      "image/png": "[encoded data removed]",
      "text/plain": [
       "<Figure size 432x288 with 2 Axes>"
      ]
     },
     "metadata": {
      "needs_background": "light"
     },
     "output_type": "display_data"
    }
   ],
   "source": [
    "plot_confusion_matrix(best_voice_forest, X_test, y_test)  \n",
    "plt.show()"
   ]
  },
  {
   "cell_type": "code",
   "execution_count": 66,
   "metadata": {},
   "outputs": [
    {
     "name": "stdout",
     "output_type": "stream",
     "text": [
      "Mean squared error: 0.04\n"
     ]
    }
   ],
   "source": [
    "print(\"Mean squared error: %.2f\"\n",
    "    % mean_squared_error(y_test, predictions))"
   ]
  }
 ],
 "metadata": {
  "kernelspec": {
   "display_name": "Python 3",
   "language": "python",
   "name": "python3"
  },
  "language_info": {
   "codemirror_mode": {
    "name": "ipython",
    "version": 3
   },
   "file_extension": ".py",
   "mimetype": "text/x-python",
   "name": "python",
   "nbconvert_exporter": "python",
   "pygments_lexer": "ipython3",
   "version": "3.8.5"
  }
 },
 "nbformat": 4,
 "nbformat_minor": 4
}
